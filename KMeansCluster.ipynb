{
 "cells": [
  {
   "cell_type": "markdown",
   "metadata": {},
   "source": [
    "# K-means Clustering"
   ]
  },
  {
   "cell_type": "markdown",
   "metadata": {},
   "source": [
    "K Means is an algorithm to determine clusters for data, which is motivated by the idea that the distance between a point and the points in its assigned cluster should be small compared to the distance between a point and those that are not in its cluster. That is, the inter-point distances should be small compared to the intra-point distances. All that remains is to mathematically represent this.\n",
    "\n",
    "Suppose we have a set of data points $\\textbf{x} = (\\textbf{x}_{1}, ... , \\textbf{x}_{N})$ which are $D$ dimensional. We can represent the centers of our clusters with $\\mu_{k}$ for $k = 1, ... , K$. For now we can assume $K$ is given to us, as deciding on a $K$ is another problem involving cross-validation.\n",
    "\n",
    "To represent the assignment of $\\textbf{x}_{n}$ to a cluster $k$, we can use indicator variables $r_{nk}$ such that \n",
    "$$r_{nk} = \\begin{cases}\n",
    "                1 & \\text{if } \\textbf{x}_{n} \\in \\text{cluster k} \\\\\n",
    "                0 & \\text{o.w.}\n",
    "           \\end{cases}$$\n",
    "                \n",
    "Finally, we can describe the error of our assignment using the squared distances between points and their assigned cluster center $\\mu_{k}$, which can be summed up in the function \n",
    "$$ J = \\sum_{n=1}^{N} \\sum_{k=1}^{K} r_{nk} \\|\\textbf{x}_{n} - \\mu_{k}\\|^2$$\n",
    "\n",
    "We now have all the pieces to formulate the algorithm. Note that our error function $J$ cannot simply be differentiated with respect to $\\mu_{k}$ and $r_{nk}$ because the latter is discrete. Instead, we need to iteratively update $J$ using the following steps.\n",
    "\n",
    "1. Initialize $\\mu_{k}$. The method we will be using is to just sample $K$ of our data points. \n",
    "\n",
    "\n",
    "2. For each n there can only be one $r_{nk}$ that equals $1$. So we assign $k = \\underset{j}{\\arg\\max} \\|\\textbf{x}_{n} - \\mu_{j}\\|^2$, which assigns the point $x_{n}$ to the cluster whose center is closest to it.\n",
    "\n",
    "\n",
    "3. Fixing $r_{nk}$, we can now differentiate $J$ with respect to $\\mu_{k}$ and set equal to $0$, which yields\n",
    "$$ -2 \\sum_{n=1}^{N} r_{nk} ( \\textbf{x}_{n} - \\mu_{k} ) = 0$$\n",
    "\n",
    "$$\\implies\\mu_{k} = \\frac{\\sum_{n=1}^{N} r_{nk} x_{n}}{\\sum_{n=1}^{N} r_{nk}}$$\n",
    "\n",
    "Intuitively, this updates each center to be the mean of the points assigned to it (and is the namesake of the algorithm).\n",
    "\n",
    "4. If the centers don't change after step 3, terminate. Otherwise repeat steps 2 and 3.\n",
    "\n",
    "This algorithm is pretty straightforward logically. We will now implement it."
   ]
  },
  {
   "cell_type": "code",
   "execution_count": 1,
   "metadata": {},
   "outputs": [],
   "source": [
    "import numpy as np\n",
    "import pandas as pd\n",
    "import random\n",
    "import matplotlib.pyplot as plt"
   ]
  },
  {
   "cell_type": "code",
   "execution_count": 2,
   "metadata": {},
   "outputs": [],
   "source": [
    "def simplekmeans(data, k):\n",
    "    # step 1\n",
    "    #fig, ax = plt.subplots(3,3, figsize=(15,13))\n",
    "    centers = data[np.random.randint(data.shape[0], size=k), :]\n",
    "    newcenters = np.zeros(centers.shape)\n",
    "    abort = 0\n",
    "    while(True):\n",
    "        # step 2\n",
    "        temp = np.empty([len(centers), len(data)])\n",
    "        for i in np.arange(len(centers)):\n",
    "            temp[i] = np.linalg.norm(data - centers[i], axis=1)\n",
    "        dist = pd.DataFrame(temp.T)\n",
    "        rnk = np.array(dist.idxmin(axis=1))\n",
    "        \n",
    "        plt.figure()\n",
    "        plt.scatter(data[:, 0], data[:, 1], c=rnk, cmap='rainbow')\n",
    "        plt.scatter(centers[:, 0], centers[:, 1], marker='x', color='black')\n",
    "        \n",
    "        if(abort):\n",
    "            return(newcenters, rnk)\n",
    "        \n",
    "        # step 3\n",
    "        for i in np.arange(len(centers)):\n",
    "            newcenters[i] = np.sum(data[np.where(rnk==i)[0], :], axis=0) / len(np.where(rnk==i)[0])\n",
    "        #print(newcenters)\n",
    "        \n",
    "        if(np.array_equal(centers, newcenters)):\n",
    "            abort = 1\n",
    "        else:\n",
    "            centers = newcenters\n",
    "    return(newcenters, rnk)"
   ]
  },
  {
   "cell_type": "markdown",
   "metadata": {},
   "source": [
    "Here we initialize the centers by sampling $K$ data points as described above. To compare the updated centers with the old ones, we will assign the new ones to a separate variable. \n",
    "\n",
    "Since we require the algorithm to run at least once, we implement a do-while loop. Within this loop we start with step 2, where we calculate the distances between the data points and each center, storing each as a column in a dataframe. We then extract the index of the minimum of each row, which effectively assigns each data point to a cluster from $0$ to $K-1$. \n",
    "\n",
    "Moving on to step 3, we update the centers by assigning them to the mean of the points in the corresponding clusters. If these new centers are the same as the old ones, we signal the loop to terminate. However, before terminating we need to update the labels one more time, and so the breakpoint needs to be placed between step 2 and step 3."
   ]
  },
  {
   "cell_type": "code",
   "execution_count": 3,
   "metadata": {},
   "outputs": [],
   "source": [
    "c1numpoints = 10\n",
    "c2numpoints = 10\n",
    "c3numpoints = 10\n",
    "\n",
    "mu1 = np.array([1, 2])\n",
    "sigma1 = np.array([[1, 0.5], [0.5, 1]])\n",
    "c1 = np.random.multivariate_normal(mu1, sigma1, c1numpoints)\n",
    "\n",
    "mu2 = np.array([1, -2])\n",
    "sigma2 = np.array([[1, 0.5], [0.5, 1]])\n",
    "c2 = np.random.multivariate_normal(mu2, sigma2, c2numpoints)\n",
    "\n",
    "mu3 = np.array([5, -2])\n",
    "sigma3 = np.array([[1, 0.5], [0.5, 1]])\n",
    "c3 = np.random.multivariate_normal(mu3, sigma3, c3numpoints)\n",
    "\n",
    "x = np.vstack((c1, c2, c3))\n",
    "#plt.plot(c1[:, 0], c1[:, 1], 'bo')\n",
    "#plt.plot(c2[:, 0], c2[:, 1], 'rx')\n",
    "#plt.plot(c3[:, 0], c3[:, 1], 'g+')"
   ]
  },
  {
   "cell_type": "code",
   "execution_count": 4,
   "metadata": {},
   "outputs": [
    {
     "data": {
      "image/png": "[encoded data removed]",
      "text/plain": [
       "<Figure size 432x288 with 1 Axes>"
      ]
     },
     "metadata": {
      "needs_background": "light"
     },
     "output_type": "display_data"
    },
    {
     "data": {
      "image/png": "[encoded data removed]",
      "text/plain": [
       "<Figure size 432x288 with 1 Axes>"
      ]
     },
     "metadata": {
      "needs_background": "light"
     },
     "output_type": "display_data"
    },
    {
     "data": {
      "image/png": "[encoded data removed]",
      "text/plain": [
       "<Figure size 432x288 with 1 Axes>"
      ]
     },
     "metadata": {
      "needs_background": "light"
     },
     "output_type": "display_data"
    }
   ],
   "source": [
    "center, labels = simplekmeans(x, 3)"
   ]
  },
  {
   "cell_type": "markdown",
   "metadata": {},
   "source": [
    "If you run this algorithm multiple times you might notice that sometimes the algorithm fails to finish running. The issue is probably due to nature of our initialization of the centers. Because we are assigning them to be randomly sampled data points, it is possible for two means to be assigned the same data point. Therefore we should sample without replacement. \n",
    "\n",
    "Another issue is that sometimes the algorithm converges, but the resulting centers and labels seem nonsensical. This is due to the fact that K-means locally converges but does not always globally converge due to being a nonparametric method. We can overcome this by running the algorithm multiple times and selecting the centers and labels from the model with the smallest error. K-means algorithms that take more than 10 or so steps will probably not converge optimally, and so we can cap the number of iterations at 10 for each algorithm.\n",
    "\n",
    "Let's redefine our K-means with these changes:"
   ]
  },
  {
   "cell_type": "code",
   "execution_count": 5,
   "metadata": {},
   "outputs": [],
   "source": [
    "def calcerror(data, rnk, centers):\n",
    "    err = 0.0\n",
    "    for i in np.arange(len(centers)):\n",
    "        err = err + np.sum((np.linalg.norm(data[np.where(rnk==i)[0], :] - centers[i], axis=1))**2, axis=0)\n",
    "    return err\n",
    "\n",
    "def kmeans(data, k):\n",
    "    num = 5  \n",
    "    error = -1\n",
    "    fincenters = None\n",
    "    finrnk = None\n",
    "    \n",
    "    # run 5 models and only update the final centers and labels if the error is lower than the previous\n",
    "    for l in np.arange(num):\n",
    "        # step 1\n",
    "        centers = data[random.sample(range(data.shape[0]), k), :]\n",
    "        newcenters = np.zeros(centers.shape)\n",
    "        abort = 0    \n",
    "        # cap the algorithm at 10 iterations, any more and it will just use up computational time\n",
    "        for j in np.arange(10):\n",
    "            # step 2\n",
    "            temp = np.empty([len(centers), len(data)])\n",
    "            for i in np.arange(len(centers)):\n",
    "                temp[i] = (np.linalg.norm(data - centers[i], axis=1))**2\n",
    "            dist = pd.DataFrame(temp.T)\n",
    "            rnk = np.array(dist.idxmin(axis=1))\n",
    "\n",
    "            if(abort):\n",
    "                break\n",
    "            # step 3\n",
    "            for i in np.arange(len(centers)):\n",
    "                newcenters[i] = np.sum(data[np.where(rnk==i)[0], :], axis=0) / len(np.where(rnk==i)[0])\n",
    "\n",
    "            if(np.array_equal(centers, newcenters)):\n",
    "                abort = 1\n",
    "            centers = newcenters\n",
    "            \n",
    "        if(error == -1):\n",
    "            error = calcerror(data, rnk, centers)\n",
    "            fincenters = centers\n",
    "            finrnk = rnk\n",
    "        elif(error > calcerror(data, rnk, centers)):\n",
    "            fincenters = centers\n",
    "            finrnk = rnk\n",
    "            error = calcerror(data, rnk, centers)\n",
    "            \n",
    "    return(fincenters, finrnk)"
   ]
  },
  {
   "cell_type": "code",
   "execution_count": 6,
   "metadata": {},
   "outputs": [
    {
     "data": {
      "text/plain": [
       "<matplotlib.collections.PathCollection at 0x1dc21c4ee10>"
      ]
     },
     "execution_count": 6,
     "metadata": {},
     "output_type": "execute_result"
    },
    {
     "data": {
      "image/png": "[encoded data removed]",
      "text/plain": [
       "<Figure size 432x288 with 1 Axes>"
      ]
     },
     "metadata": {
      "needs_background": "light"
     },
     "output_type": "display_data"
    }
   ],
   "source": [
    "centers, labels = kmeans(x, 3)\n",
    "plt.scatter(x[:, 0], x[:, 1], c=labels, cmap='rainbow')\n",
    "plt.scatter(centers[:, 0], centers[:, 1], marker='x', color='black')"
   ]
  },
  {
   "cell_type": "markdown",
   "metadata": {},
   "source": [
    "Now our algorithm will almost always give a reasonable clustering of our data points. Unfortunately we cannot plot the steps of the most successful K-means iteration unless we store all the data for each step of each iteration, which would require a ton of storage. To visualize the K-means iterations we'll have to stick with our first version of it.\n",
    "\n",
    "There is also another implementation of K-means where we iteratively update the cluster centers rather than recompute them each time, which can potentially make our algorithm much faster for large or high dimensional data sets."
   ]
  }
 ],
 "metadata": {
  "kernelspec": {
   "display_name": "Python 3",
   "language": "python",
   "name": "python3"
  },
  "language_info": {
   "codemirror_mode": {
    "name": "ipython",
    "version": 3
   },
   "file_extension": ".py",
   "mimetype": "text/x-python",
   "name": "python",
   "nbconvert_exporter": "python",
   "pygments_lexer": "ipython3",
   "version": "3.7.3"
  }
 },
 "nbformat": 4,
 "nbformat_minor": 2
}
