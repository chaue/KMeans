{
 "cells": [
  {
   "cell_type": "markdown",
   "metadata": {},
   "source": [
    "# K-means Clustering"
   ]
  },
  {
   "cell_type": "markdown",
   "metadata": {},
   "source": []
  },
  {
   "cell_type": "code",
   "execution_count": 34,
   "metadata": {},
   "outputs": [],
   "source": [
    "import numpy as np\n",
    "import pandas as pd\n",
    "import matplotlib.pyplot as plt"
   ]
  },
  {
   "cell_type": "code",
   "execution_count": 10,
   "metadata": {},
   "outputs": [
    {
     "data": {
      "text/plain": [
       "[<matplotlib.lines.Line2D at 0x1928cfcdac8>]"
      ]
     },
     "execution_count": 10,
     "metadata": {},
     "output_type": "execute_result"
    },
    {
     "data": {
      "image/png": "[encoded data removed]",
      "text/plain": [
       "<Figure size 432x288 with 1 Axes>"
      ]
     },
     "metadata": {
      "needs_background": "light"
     },
     "output_type": "display_data"
    }
   ],
   "source": [
    "c1numpoints = 10\n",
    "c2numpoints = 10\n",
    "\n",
    "mu1 = np.array([1, 2])\n",
    "sigma1 = np.array([[1, 0.5], [0.5, 1]])\n",
    "c1 = np.random.multivariate_normal(mu1, sigma1, c1numpoints)\n",
    "\n",
    "mu2 = np.array([1, -2])\n",
    "sigma2 = np.array([[1, 0.5], [0.5, 1]])\n",
    "c2 = np.random.multivariate_normal(mu2, sigma2, c2numpoints)\n",
    "\n",
    "plt.plot(c1[:, 0], c1[:, 1], 'bo')\n",
    "plt.plot(c2[:, 0], c2[:, 1], 'rx')"
   ]
  },
  {
   "cell_type": "code",
   "execution_count": 32,
   "metadata": {},
   "outputs": [
    {
     "data": {
      "text/plain": [
       "array([1, 1, 1, 2, 2, 1, 2, 2, 2, 2, 1, 1, 2, 1, 1, 1, 1, 1, 1, 1])"
      ]
     },
     "execution_count": 32,
     "metadata": {},
     "output_type": "execute_result"
    }
   ],
   "source": [
    "x = np.vstack((c1, c2))\n",
    "centers = np.array([[4, 1], [-2, -1]])\n",
    "\n",
    "temp1 = np.linalg.norm(x - centers[0], axis=1)\n",
    "temp2 = np.linalg.norm(x - centers[1], axis=1)\n",
    "\n",
    "np.where(temp1 > temp2, 1, 2)"
   ]
  },
  {
   "cell_type": "code",
   "execution_count": 33,
   "metadata": {},
   "outputs": [
    {
     "name": "stdout",
     "output_type": "stream",
     "text": [
      "[3.98778802 4.09900613 4.45349935 3.12075145 3.14375566 3.82110441\n",
      " 3.8747928  3.410242   2.87975872 3.40008656 7.15435121 4.51366841\n",
      " 2.82849933 6.14487726 3.69195769 4.14657243 5.16793133 5.11599649\n",
      " 4.07628966 5.38753396]\n",
      "[3.88688639 2.79370081 2.87572857 5.01250339 4.41644073 2.58977812\n",
      " 4.87256573 3.46420908 5.88114151 3.66598621 2.85478301 2.48346199\n",
      " 4.14199727 3.04196335 3.40545897 3.54730701 2.53151952 2.47800899\n",
      " 3.00017817 2.03204129]\n"
     ]
    }
   ],
   "source": [
    "print(temp1)\n",
    "print(temp2)"
   ]
  },
  {
   "cell_type": "code",
   "execution_count": 17,
   "metadata": {},
   "outputs": [
    {
     "data": {
      "text/plain": [
       "array([2, 1, 2, 1])"
      ]
     },
     "execution_count": 17,
     "metadata": {},
     "output_type": "execute_result"
    }
   ],
   "source": [
    "a = np.array([1,2,3,4])\n",
    "b = np.array([11, 1, 13, 2])\n",
    "np.where(a > b, 1, 2)"
   ]
  },
  {
   "cell_type": "code",
   "execution_count": 19,
   "metadata": {},
   "outputs": [
    {
     "data": {
      "text/plain": [
       "array([1.41421356, 2.82842712])"
      ]
     },
     "execution_count": 19,
     "metadata": {},
     "output_type": "execute_result"
    }
   ],
   "source": [
    "np.linalg.norm(np.array([[1,1], [2,2]]), axis=1)"
   ]
  },
  {
   "cell_type": "code",
   "execution_count": 20,
   "metadata": {},
   "outputs": [
    {
     "data": {
      "text/plain": [
       "array([-1,  0])"
      ]
     },
     "execution_count": 20,
     "metadata": {},
     "output_type": "execute_result"
    }
   ],
   "source": [
    "np.array([1,2]) - 2"
   ]
  },
  {
   "cell_type": "code",
   "execution_count": 28,
   "metadata": {},
   "outputs": [
    {
     "data": {
      "text/plain": [
       "array([[-3.80129491,  1.20524285],\n",
       "       [-4.09873735,  0.0469403 ],\n",
       "       [-4.43438339,  0.41218976],\n",
       "       [-2.61757109,  1.69923842],\n",
       "       [-2.91988743,  1.16509958],\n",
       "       [-3.75465638, -0.70950291],\n",
       "       [-3.28890582,  2.04868684],\n",
       "       [-3.3981317 ,  0.2871436 ],\n",
       "       [-1.87163407,  2.188606  ],\n",
       "       [-3.35687599,  0.54034453],\n",
       "       [-5.32805411, -4.7745765 ],\n",
       "       [-3.61718651, -2.69984523],\n",
       "       [-1.86007028, -2.13085594],\n",
       "       [-4.21991563, -4.46674698],\n",
       "       [-2.64378026, -2.57700942],\n",
       "       [-2.65617322, -3.18414929],\n",
       "       [-3.89132785, -3.40074724],\n",
       "       [-3.89841846, -3.31296748],\n",
       "       [-3.07654239, -2.67413993],\n",
       "       [-4.34727896, -3.18224572]])"
      ]
     },
     "execution_count": 28,
     "metadata": {},
     "output_type": "execute_result"
    }
   ],
   "source": [
    "x - centers[0]"
   ]
  },
  {
   "cell_type": "code",
   "execution_count": 27,
   "metadata": {},
   "outputs": [
    {
     "data": {
      "text/plain": [
       "(2, 2)"
      ]
     },
     "execution_count": 27,
     "metadata": {},
     "output_type": "execute_result"
    }
   ],
   "source": [
    "centers.shape"
   ]
  },
  {
   "cell_type": "code",
   "execution_count": 44,
   "metadata": {},
   "outputs": [
    {
     "name": "stdout",
     "output_type": "stream",
     "text": [
      "           0         1\n",
      "0   3.987788  3.886886\n",
      "1   4.099006  2.793701\n",
      "2   4.453499  2.875729\n",
      "3   3.120751  5.012503\n",
      "4   3.143756  4.416441\n",
      "5   3.821104  2.589778\n",
      "6   3.874793  4.872566\n",
      "7   3.410242  3.464209\n",
      "8   2.879759  5.881142\n",
      "9   3.400087  3.665986\n",
      "10  7.154351  2.854783\n",
      "11  4.513668  2.483462\n",
      "12  2.828499  4.141997\n",
      "13  6.144877  3.041963\n",
      "14  3.691958  3.405459\n",
      "15  4.146572  3.547307\n",
      "16  5.167931  2.531520\n",
      "17  5.115996  2.478009\n",
      "18  4.076290  3.000178\n",
      "19  5.387534  2.032041\n"
     ]
    },
    {
     "data": {
      "text/plain": [
       "0     1\n",
       "1     1\n",
       "2     1\n",
       "3     0\n",
       "4     0\n",
       "5     1\n",
       "6     0\n",
       "7     0\n",
       "8     0\n",
       "9     0\n",
       "10    1\n",
       "11    1\n",
       "12    0\n",
       "13    1\n",
       "14    1\n",
       "15    1\n",
       "16    1\n",
       "17    1\n",
       "18    1\n",
       "19    1\n",
       "dtype: int64"
      ]
     },
     "execution_count": 44,
     "metadata": {},
     "output_type": "execute_result"
    }
   ],
   "source": [
    "print(pd.DataFrame(np.hstack((np.array([temp1]).T, np.array([temp2]).T))))\n",
    "pd.DataFrame(np.hstack((np.array([temp1]).T, np.array([temp2]).T))).idxmin(axis=1)"
   ]
  },
  {
   "cell_type": "code",
   "execution_count": null,
   "metadata": {},
   "outputs": [],
   "source": []
  },
  {
   "cell_type": "code",
   "execution_count": null,
   "metadata": {},
   "outputs": [],
   "source": []
  },
  {
   "cell_type": "code",
   "execution_count": null,
   "metadata": {},
   "outputs": [],
   "source": []
  },
  {
   "cell_type": "code",
   "execution_count": null,
   "metadata": {},
   "outputs": [],
   "source": []
  },
  {
   "cell_type": "code",
   "execution_count": null,
   "metadata": {},
   "outputs": [],
   "source": []
  },
  {
   "cell_type": "code",
   "execution_count": null,
   "metadata": {},
   "outputs": [],
   "source": []
  },
  {
   "cell_type": "code",
   "execution_count": null,
   "metadata": {},
   "outputs": [],
   "source": []
  },
  {
   "cell_type": "code",
   "execution_count": null,
   "metadata": {},
   "outputs": [],
   "source": []
  },
  {
   "cell_type": "code",
   "execution_count": null,
   "metadata": {},
   "outputs": [],
   "source": []
  }
 ],
 "metadata": {
  "kernelspec": {
   "display_name": "Python 3",
   "language": "python",
   "name": "python3"
  },
  "language_info": {
   "codemirror_mode": {
    "name": "ipython",
    "version": 3
   },
   "file_extension": ".py",
   "mimetype": "text/x-python",
   "name": "python",
   "nbconvert_exporter": "python",
   "pygments_lexer": "ipython3",
   "version": "3.7.3"
  }
 },
 "nbformat": 4,
 "nbformat_minor": 2
}
